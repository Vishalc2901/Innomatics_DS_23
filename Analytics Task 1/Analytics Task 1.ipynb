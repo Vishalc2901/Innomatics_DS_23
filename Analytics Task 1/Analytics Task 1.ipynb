{
 "cells": [
  {
   "cell_type": "code",
   "execution_count": 1,
   "id": "62f950d5",
   "metadata": {},
   "outputs": [],
   "source": [
    "#importing libraries\n",
    "import numpy as np\n",
    "import pandas as pd\n",
    "import matplotlib.pyplot as plt"
   ]
  },
  {
   "cell_type": "code",
   "execution_count": 2,
   "id": "acbe940f",
   "metadata": {},
   "outputs": [
    {
     "data": {
      "text/html": [
       "<div>\n",
       "<style scoped>\n",
       "    .dataframe tbody tr th:only-of-type {\n",
       "        vertical-align: middle;\n",
       "    }\n",
       "\n",
       "    .dataframe tbody tr th {\n",
       "        vertical-align: top;\n",
       "    }\n",
       "\n",
       "    .dataframe thead th {\n",
       "        text-align: right;\n",
       "    }\n",
       "</style>\n",
       "<table border=\"1\" class=\"dataframe\">\n",
       "  <thead>\n",
       "    <tr style=\"text-align: right;\">\n",
       "      <th></th>\n",
       "      <th>Batch</th>\n",
       "      <th>User_ID</th>\n",
       "      <th>Score</th>\n",
       "    </tr>\n",
       "  </thead>\n",
       "  <tbody>\n",
       "    <tr>\n",
       "      <th>0</th>\n",
       "      <td>AI_ELITE_7</td>\n",
       "      <td>uid_149</td>\n",
       "      <td>6 / 7</td>\n",
       "    </tr>\n",
       "    <tr>\n",
       "      <th>1</th>\n",
       "      <td>AI_ELITE_7</td>\n",
       "      <td>uid_148</td>\n",
       "      <td>6 / 7</td>\n",
       "    </tr>\n",
       "    <tr>\n",
       "      <th>2</th>\n",
       "      <td>AI_ELITE_7</td>\n",
       "      <td>uid_147</td>\n",
       "      <td>7 / 7</td>\n",
       "    </tr>\n",
       "    <tr>\n",
       "      <th>3</th>\n",
       "      <td>AI_ELITE_7</td>\n",
       "      <td>uid_146</td>\n",
       "      <td>7 / 7</td>\n",
       "    </tr>\n",
       "    <tr>\n",
       "      <th>4</th>\n",
       "      <td>AI_ELITE_7</td>\n",
       "      <td>uid_145</td>\n",
       "      <td>4 / 7</td>\n",
       "    </tr>\n",
       "  </tbody>\n",
       "</table>\n",
       "</div>"
      ],
      "text/plain": [
       "       Batch  User_ID     Score   \n",
       "0  AI_ELITE_7  uid_149       6 / 7\n",
       "1  AI_ELITE_7  uid_148       6 / 7\n",
       "2  AI_ELITE_7  uid_147       7 / 7\n",
       "3  AI_ELITE_7  uid_146       7 / 7\n",
       "4  AI_ELITE_7  uid_145       4 / 7"
      ]
     },
     "execution_count": 2,
     "metadata": {},
     "output_type": "execute_result"
    }
   ],
   "source": [
    "df = pd.read_csv('scores_data.csv')\n",
    "df.head()"
   ]
  },
  {
   "cell_type": "code",
   "execution_count": 3,
   "id": "44bd6be3",
   "metadata": {},
   "outputs": [
    {
     "name": "stdout",
     "output_type": "stream",
     "text": [
      "<class 'pandas.core.frame.DataFrame'>\n",
      "RangeIndex: 149 entries, 0 to 148\n",
      "Data columns (total 3 columns):\n",
      " #   Column       Non-Null Count  Dtype \n",
      "---  ------       --------------  ----- \n",
      " 0   Batch        149 non-null    object\n",
      " 1   User_ID      149 non-null    object\n",
      " 2      Score     149 non-null    object\n",
      "dtypes: object(3)\n",
      "memory usage: 3.6+ KB\n"
     ]
    }
   ],
   "source": [
    "df.info()"
   ]
  },
  {
   "cell_type": "code",
   "execution_count": 4,
   "id": "74e41842",
   "metadata": {},
   "outputs": [
    {
     "name": "stdout",
     "output_type": "stream",
     "text": [
      "<class 'pandas.core.frame.DataFrame'>\n",
      "RangeIndex: 149 entries, 0 to 148\n",
      "Data columns (total 3 columns):\n",
      " #   Column   Non-Null Count  Dtype \n",
      "---  ------   --------------  ----- \n",
      " 0   Batch    149 non-null    object\n",
      " 1   User_ID  149 non-null    object\n",
      " 2   Score    149 non-null    object\n",
      "dtypes: object(3)\n",
      "memory usage: 3.6+ KB\n"
     ]
    }
   ],
   "source": [
    "df.columns = df.columns.str.replace(' ', '')\n",
    "df.info()"
   ]
  },
  {
   "cell_type": "code",
   "execution_count": 5,
   "id": "7b34eb96",
   "metadata": {},
   "outputs": [
    {
     "data": {
      "text/plain": [
       "Batch      0\n",
       "User_ID    0\n",
       "Score      0\n",
       "dtype: int64"
      ]
     },
     "execution_count": 5,
     "metadata": {},
     "output_type": "execute_result"
    }
   ],
   "source": [
    "df.isnull().sum()"
   ]
  },
  {
   "cell_type": "code",
   "execution_count": 6,
   "id": "0b86854d",
   "metadata": {},
   "outputs": [],
   "source": [
    "Max_score = 7\n",
    "df['Score'] = df['Score'].str.replace('/ 7','')"
   ]
  },
  {
   "cell_type": "code",
   "execution_count": 7,
   "id": "447dcb84",
   "metadata": {},
   "outputs": [],
   "source": [
    "df['Max_score'] = Max_score"
   ]
  },
  {
   "cell_type": "code",
   "execution_count": 8,
   "id": "101ab25b",
   "metadata": {},
   "outputs": [
    {
     "data": {
      "text/html": [
       "<div>\n",
       "<style scoped>\n",
       "    .dataframe tbody tr th:only-of-type {\n",
       "        vertical-align: middle;\n",
       "    }\n",
       "\n",
       "    .dataframe tbody tr th {\n",
       "        vertical-align: top;\n",
       "    }\n",
       "\n",
       "    .dataframe thead th {\n",
       "        text-align: right;\n",
       "    }\n",
       "</style>\n",
       "<table border=\"1\" class=\"dataframe\">\n",
       "  <thead>\n",
       "    <tr style=\"text-align: right;\">\n",
       "      <th></th>\n",
       "      <th>Batch</th>\n",
       "      <th>User_ID</th>\n",
       "      <th>Score</th>\n",
       "      <th>Max_score</th>\n",
       "    </tr>\n",
       "  </thead>\n",
       "  <tbody>\n",
       "    <tr>\n",
       "      <th>0</th>\n",
       "      <td>AI_ELITE_7</td>\n",
       "      <td>uid_149</td>\n",
       "      <td>6</td>\n",
       "      <td>7</td>\n",
       "    </tr>\n",
       "    <tr>\n",
       "      <th>1</th>\n",
       "      <td>AI_ELITE_7</td>\n",
       "      <td>uid_148</td>\n",
       "      <td>6</td>\n",
       "      <td>7</td>\n",
       "    </tr>\n",
       "    <tr>\n",
       "      <th>2</th>\n",
       "      <td>AI_ELITE_7</td>\n",
       "      <td>uid_147</td>\n",
       "      <td>7</td>\n",
       "      <td>7</td>\n",
       "    </tr>\n",
       "    <tr>\n",
       "      <th>3</th>\n",
       "      <td>AI_ELITE_7</td>\n",
       "      <td>uid_146</td>\n",
       "      <td>7</td>\n",
       "      <td>7</td>\n",
       "    </tr>\n",
       "    <tr>\n",
       "      <th>4</th>\n",
       "      <td>AI_ELITE_7</td>\n",
       "      <td>uid_145</td>\n",
       "      <td>4</td>\n",
       "      <td>7</td>\n",
       "    </tr>\n",
       "    <tr>\n",
       "      <th>...</th>\n",
       "      <td>...</td>\n",
       "      <td>...</td>\n",
       "      <td>...</td>\n",
       "      <td>...</td>\n",
       "    </tr>\n",
       "    <tr>\n",
       "      <th>144</th>\n",
       "      <td>AI_ELITE_4</td>\n",
       "      <td>uid_5</td>\n",
       "      <td>4</td>\n",
       "      <td>7</td>\n",
       "    </tr>\n",
       "    <tr>\n",
       "      <th>145</th>\n",
       "      <td>AI_ELITE_4</td>\n",
       "      <td>uid_4</td>\n",
       "      <td>4</td>\n",
       "      <td>7</td>\n",
       "    </tr>\n",
       "    <tr>\n",
       "      <th>146</th>\n",
       "      <td>AI_ELITE_4</td>\n",
       "      <td>uid_3</td>\n",
       "      <td>4</td>\n",
       "      <td>7</td>\n",
       "    </tr>\n",
       "    <tr>\n",
       "      <th>147</th>\n",
       "      <td>AI_ELITE_4</td>\n",
       "      <td>uid_2</td>\n",
       "      <td>3</td>\n",
       "      <td>7</td>\n",
       "    </tr>\n",
       "    <tr>\n",
       "      <th>148</th>\n",
       "      <td>AI_ELITE_4</td>\n",
       "      <td>uid_1</td>\n",
       "      <td>2</td>\n",
       "      <td>7</td>\n",
       "    </tr>\n",
       "  </tbody>\n",
       "</table>\n",
       "<p>149 rows × 4 columns</p>\n",
       "</div>"
      ],
      "text/plain": [
       "          Batch  User_ID Score  Max_score\n",
       "0    AI_ELITE_7  uid_149    6           7\n",
       "1    AI_ELITE_7  uid_148    6           7\n",
       "2    AI_ELITE_7  uid_147    7           7\n",
       "3    AI_ELITE_7  uid_146    7           7\n",
       "4    AI_ELITE_7  uid_145    4           7\n",
       "..          ...      ...   ...        ...\n",
       "144  AI_ELITE_4    uid_5    4           7\n",
       "145  AI_ELITE_4    uid_4    4           7\n",
       "146  AI_ELITE_4    uid_3    4           7\n",
       "147  AI_ELITE_4    uid_2    3           7\n",
       "148  AI_ELITE_4    uid_1    2           7\n",
       "\n",
       "[149 rows x 4 columns]"
      ]
     },
     "execution_count": 8,
     "metadata": {},
     "output_type": "execute_result"
    }
   ],
   "source": [
    "df"
   ]
  },
  {
   "cell_type": "code",
   "execution_count": 9,
   "id": "6bf0fa07",
   "metadata": {},
   "outputs": [],
   "source": [
    "#Changing Data Type\n",
    "df['Score'] = df['Score'].astype('int')\n",
    "df['Max_score'] = df['Max_score'].astype('int')"
   ]
  },
  {
   "cell_type": "code",
   "execution_count": 10,
   "id": "03b8d2d1",
   "metadata": {},
   "outputs": [
    {
     "name": "stdout",
     "output_type": "stream",
     "text": [
      "<class 'pandas.core.frame.DataFrame'>\n",
      "RangeIndex: 149 entries, 0 to 148\n",
      "Data columns (total 4 columns):\n",
      " #   Column     Non-Null Count  Dtype \n",
      "---  ------     --------------  ----- \n",
      " 0   Batch      149 non-null    object\n",
      " 1   User_ID    149 non-null    object\n",
      " 2   Score      149 non-null    int32 \n",
      " 3   Max_score  149 non-null    int32 \n",
      "dtypes: int32(2), object(2)\n",
      "memory usage: 3.6+ KB\n"
     ]
    }
   ],
   "source": [
    "df.info()"
   ]
  },
  {
   "cell_type": "markdown",
   "id": "0d474c3c",
   "metadata": {},
   "source": [
    "## Students who got full marks"
   ]
  },
  {
   "cell_type": "code",
   "execution_count": 11,
   "id": "44ffff7d",
   "metadata": {},
   "outputs": [
    {
     "data": {
      "text/html": [
       "<div>\n",
       "<style scoped>\n",
       "    .dataframe tbody tr th:only-of-type {\n",
       "        vertical-align: middle;\n",
       "    }\n",
       "\n",
       "    .dataframe tbody tr th {\n",
       "        vertical-align: top;\n",
       "    }\n",
       "\n",
       "    .dataframe thead th {\n",
       "        text-align: right;\n",
       "    }\n",
       "</style>\n",
       "<table border=\"1\" class=\"dataframe\">\n",
       "  <thead>\n",
       "    <tr style=\"text-align: right;\">\n",
       "      <th></th>\n",
       "      <th>Batch</th>\n",
       "      <th>User_ID</th>\n",
       "      <th>Score</th>\n",
       "      <th>Max_score</th>\n",
       "    </tr>\n",
       "  </thead>\n",
       "  <tbody>\n",
       "    <tr>\n",
       "      <th>2</th>\n",
       "      <td>AI_ELITE_7</td>\n",
       "      <td>uid_147</td>\n",
       "      <td>7</td>\n",
       "      <td>7</td>\n",
       "    </tr>\n",
       "    <tr>\n",
       "      <th>3</th>\n",
       "      <td>AI_ELITE_7</td>\n",
       "      <td>uid_146</td>\n",
       "      <td>7</td>\n",
       "      <td>7</td>\n",
       "    </tr>\n",
       "    <tr>\n",
       "      <th>5</th>\n",
       "      <td>AI_ELITE_7</td>\n",
       "      <td>uid_144</td>\n",
       "      <td>7</td>\n",
       "      <td>7</td>\n",
       "    </tr>\n",
       "    <tr>\n",
       "      <th>7</th>\n",
       "      <td>AI_ELITE_7</td>\n",
       "      <td>uid_142</td>\n",
       "      <td>7</td>\n",
       "      <td>7</td>\n",
       "    </tr>\n",
       "    <tr>\n",
       "      <th>15</th>\n",
       "      <td>AI_ELITE_7</td>\n",
       "      <td>uid_134</td>\n",
       "      <td>7</td>\n",
       "      <td>7</td>\n",
       "    </tr>\n",
       "    <tr>\n",
       "      <th>16</th>\n",
       "      <td>AI_ELITE_7</td>\n",
       "      <td>uid_133</td>\n",
       "      <td>7</td>\n",
       "      <td>7</td>\n",
       "    </tr>\n",
       "    <tr>\n",
       "      <th>17</th>\n",
       "      <td>AI_ELITE_7</td>\n",
       "      <td>uid_132</td>\n",
       "      <td>7</td>\n",
       "      <td>7</td>\n",
       "    </tr>\n",
       "    <tr>\n",
       "      <th>19</th>\n",
       "      <td>AI_ELITE_7</td>\n",
       "      <td>uid_130</td>\n",
       "      <td>7</td>\n",
       "      <td>7</td>\n",
       "    </tr>\n",
       "    <tr>\n",
       "      <th>24</th>\n",
       "      <td>AI_ELITE_7</td>\n",
       "      <td>uid_125</td>\n",
       "      <td>7</td>\n",
       "      <td>7</td>\n",
       "    </tr>\n",
       "    <tr>\n",
       "      <th>35</th>\n",
       "      <td>AI_ELITE_7</td>\n",
       "      <td>uid_114</td>\n",
       "      <td>7</td>\n",
       "      <td>7</td>\n",
       "    </tr>\n",
       "    <tr>\n",
       "      <th>63</th>\n",
       "      <td>AI_ELITE_6</td>\n",
       "      <td>uid_86</td>\n",
       "      <td>7</td>\n",
       "      <td>7</td>\n",
       "    </tr>\n",
       "    <tr>\n",
       "      <th>67</th>\n",
       "      <td>AI_ELITE_6</td>\n",
       "      <td>uid_82</td>\n",
       "      <td>7</td>\n",
       "      <td>7</td>\n",
       "    </tr>\n",
       "    <tr>\n",
       "      <th>74</th>\n",
       "      <td>AI_ELITE_6</td>\n",
       "      <td>uid_75</td>\n",
       "      <td>7</td>\n",
       "      <td>7</td>\n",
       "    </tr>\n",
       "    <tr>\n",
       "      <th>78</th>\n",
       "      <td>AI_ELITE_6</td>\n",
       "      <td>uid_71</td>\n",
       "      <td>7</td>\n",
       "      <td>7</td>\n",
       "    </tr>\n",
       "    <tr>\n",
       "      <th>98</th>\n",
       "      <td>AI_ELITE_6</td>\n",
       "      <td>uid_51</td>\n",
       "      <td>7</td>\n",
       "      <td>7</td>\n",
       "    </tr>\n",
       "    <tr>\n",
       "      <th>101</th>\n",
       "      <td>AI_ELITE_4</td>\n",
       "      <td>uid_48</td>\n",
       "      <td>7</td>\n",
       "      <td>7</td>\n",
       "    </tr>\n",
       "    <tr>\n",
       "      <th>105</th>\n",
       "      <td>AI_ELITE_4</td>\n",
       "      <td>uid_44</td>\n",
       "      <td>7</td>\n",
       "      <td>7</td>\n",
       "    </tr>\n",
       "    <tr>\n",
       "      <th>139</th>\n",
       "      <td>AI_ELITE_4</td>\n",
       "      <td>uid_10</td>\n",
       "      <td>7</td>\n",
       "      <td>7</td>\n",
       "    </tr>\n",
       "  </tbody>\n",
       "</table>\n",
       "</div>"
      ],
      "text/plain": [
       "          Batch  User_ID  Score  Max_score\n",
       "2    AI_ELITE_7  uid_147      7          7\n",
       "3    AI_ELITE_7  uid_146      7          7\n",
       "5    AI_ELITE_7  uid_144      7          7\n",
       "7    AI_ELITE_7  uid_142      7          7\n",
       "15   AI_ELITE_7  uid_134      7          7\n",
       "16   AI_ELITE_7  uid_133      7          7\n",
       "17   AI_ELITE_7  uid_132      7          7\n",
       "19   AI_ELITE_7  uid_130      7          7\n",
       "24   AI_ELITE_7  uid_125      7          7\n",
       "35   AI_ELITE_7  uid_114      7          7\n",
       "63   AI_ELITE_6   uid_86      7          7\n",
       "67   AI_ELITE_6   uid_82      7          7\n",
       "74   AI_ELITE_6   uid_75      7          7\n",
       "78   AI_ELITE_6   uid_71      7          7\n",
       "98   AI_ELITE_6   uid_51      7          7\n",
       "101  AI_ELITE_4   uid_48      7          7\n",
       "105  AI_ELITE_4   uid_44      7          7\n",
       "139  AI_ELITE_4   uid_10      7          7"
      ]
     },
     "execution_count": 11,
     "metadata": {},
     "output_type": "execute_result"
    }
   ],
   "source": [
    "df.loc[df.Score==7]"
   ]
  },
  {
   "cell_type": "markdown",
   "id": "955d7384",
   "metadata": {},
   "source": [
    "## Students who got 0 marks"
   ]
  },
  {
   "cell_type": "code",
   "execution_count": 12,
   "id": "5653afff",
   "metadata": {},
   "outputs": [
    {
     "data": {
      "text/html": [
       "<div>\n",
       "<style scoped>\n",
       "    .dataframe tbody tr th:only-of-type {\n",
       "        vertical-align: middle;\n",
       "    }\n",
       "\n",
       "    .dataframe tbody tr th {\n",
       "        vertical-align: top;\n",
       "    }\n",
       "\n",
       "    .dataframe thead th {\n",
       "        text-align: right;\n",
       "    }\n",
       "</style>\n",
       "<table border=\"1\" class=\"dataframe\">\n",
       "  <thead>\n",
       "    <tr style=\"text-align: right;\">\n",
       "      <th></th>\n",
       "      <th>Batch</th>\n",
       "      <th>User_ID</th>\n",
       "      <th>Score</th>\n",
       "      <th>Max_score</th>\n",
       "    </tr>\n",
       "  </thead>\n",
       "  <tbody>\n",
       "    <tr>\n",
       "      <th>68</th>\n",
       "      <td>AI_ELITE_6</td>\n",
       "      <td>uid_81</td>\n",
       "      <td>0</td>\n",
       "      <td>7</td>\n",
       "    </tr>\n",
       "    <tr>\n",
       "      <th>135</th>\n",
       "      <td>AI_ELITE_4</td>\n",
       "      <td>uid_14</td>\n",
       "      <td>0</td>\n",
       "      <td>7</td>\n",
       "    </tr>\n",
       "  </tbody>\n",
       "</table>\n",
       "</div>"
      ],
      "text/plain": [
       "          Batch User_ID  Score  Max_score\n",
       "68   AI_ELITE_6  uid_81      0          7\n",
       "135  AI_ELITE_4  uid_14      0          7"
      ]
     },
     "execution_count": 12,
     "metadata": {},
     "output_type": "execute_result"
    }
   ],
   "source": [
    "df.loc[df.Score==0]"
   ]
  },
  {
   "cell_type": "markdown",
   "id": "e2bbc45b",
   "metadata": {},
   "source": [
    "## Now we divide data into three Batches"
   ]
  },
  {
   "cell_type": "code",
   "execution_count": 13,
   "id": "995e1234",
   "metadata": {},
   "outputs": [
    {
     "data": {
      "text/html": [
       "<div>\n",
       "<style scoped>\n",
       "    .dataframe tbody tr th:only-of-type {\n",
       "        vertical-align: middle;\n",
       "    }\n",
       "\n",
       "    .dataframe tbody tr th {\n",
       "        vertical-align: top;\n",
       "    }\n",
       "\n",
       "    .dataframe thead th {\n",
       "        text-align: right;\n",
       "    }\n",
       "</style>\n",
       "<table border=\"1\" class=\"dataframe\">\n",
       "  <thead>\n",
       "    <tr style=\"text-align: right;\">\n",
       "      <th></th>\n",
       "      <th>Batch</th>\n",
       "      <th>User_ID</th>\n",
       "      <th>Score</th>\n",
       "      <th>Max_score</th>\n",
       "    </tr>\n",
       "  </thead>\n",
       "  <tbody>\n",
       "    <tr>\n",
       "      <th>0</th>\n",
       "      <td>AI_ELITE_7</td>\n",
       "      <td>uid_149</td>\n",
       "      <td>6</td>\n",
       "      <td>7</td>\n",
       "    </tr>\n",
       "    <tr>\n",
       "      <th>1</th>\n",
       "      <td>AI_ELITE_7</td>\n",
       "      <td>uid_148</td>\n",
       "      <td>6</td>\n",
       "      <td>7</td>\n",
       "    </tr>\n",
       "    <tr>\n",
       "      <th>2</th>\n",
       "      <td>AI_ELITE_7</td>\n",
       "      <td>uid_147</td>\n",
       "      <td>7</td>\n",
       "      <td>7</td>\n",
       "    </tr>\n",
       "    <tr>\n",
       "      <th>3</th>\n",
       "      <td>AI_ELITE_7</td>\n",
       "      <td>uid_146</td>\n",
       "      <td>7</td>\n",
       "      <td>7</td>\n",
       "    </tr>\n",
       "    <tr>\n",
       "      <th>4</th>\n",
       "      <td>AI_ELITE_7</td>\n",
       "      <td>uid_145</td>\n",
       "      <td>4</td>\n",
       "      <td>7</td>\n",
       "    </tr>\n",
       "  </tbody>\n",
       "</table>\n",
       "</div>"
      ],
      "text/plain": [
       "        Batch  User_ID  Score  Max_score\n",
       "0  AI_ELITE_7  uid_149      6          7\n",
       "1  AI_ELITE_7  uid_148      6          7\n",
       "2  AI_ELITE_7  uid_147      7          7\n",
       "3  AI_ELITE_7  uid_146      7          7\n",
       "4  AI_ELITE_7  uid_145      4          7"
      ]
     },
     "execution_count": 13,
     "metadata": {},
     "output_type": "execute_result"
    }
   ],
   "source": [
    "batch_a = df[df['Batch'] == 'AI_ELITE_7']\n",
    "batch_a.head()"
   ]
  },
  {
   "cell_type": "code",
   "execution_count": 14,
   "id": "57ab103e",
   "metadata": {},
   "outputs": [
    {
     "data": {
      "text/html": [
       "<div>\n",
       "<style scoped>\n",
       "    .dataframe tbody tr th:only-of-type {\n",
       "        vertical-align: middle;\n",
       "    }\n",
       "\n",
       "    .dataframe tbody tr th {\n",
       "        vertical-align: top;\n",
       "    }\n",
       "\n",
       "    .dataframe thead th {\n",
       "        text-align: right;\n",
       "    }\n",
       "</style>\n",
       "<table border=\"1\" class=\"dataframe\">\n",
       "  <thead>\n",
       "    <tr style=\"text-align: right;\">\n",
       "      <th></th>\n",
       "      <th>Batch</th>\n",
       "      <th>User_ID</th>\n",
       "      <th>Score</th>\n",
       "      <th>Max_score</th>\n",
       "    </tr>\n",
       "  </thead>\n",
       "  <tbody>\n",
       "    <tr>\n",
       "      <th>53</th>\n",
       "      <td>AI_ELITE_6</td>\n",
       "      <td>uid_96</td>\n",
       "      <td>3</td>\n",
       "      <td>7</td>\n",
       "    </tr>\n",
       "    <tr>\n",
       "      <th>54</th>\n",
       "      <td>AI_ELITE_6</td>\n",
       "      <td>uid_95</td>\n",
       "      <td>4</td>\n",
       "      <td>7</td>\n",
       "    </tr>\n",
       "    <tr>\n",
       "      <th>55</th>\n",
       "      <td>AI_ELITE_6</td>\n",
       "      <td>uid_94</td>\n",
       "      <td>6</td>\n",
       "      <td>7</td>\n",
       "    </tr>\n",
       "    <tr>\n",
       "      <th>56</th>\n",
       "      <td>AI_ELITE_6</td>\n",
       "      <td>uid_93</td>\n",
       "      <td>6</td>\n",
       "      <td>7</td>\n",
       "    </tr>\n",
       "    <tr>\n",
       "      <th>57</th>\n",
       "      <td>AI_ELITE_6</td>\n",
       "      <td>uid_92</td>\n",
       "      <td>4</td>\n",
       "      <td>7</td>\n",
       "    </tr>\n",
       "  </tbody>\n",
       "</table>\n",
       "</div>"
      ],
      "text/plain": [
       "         Batch User_ID  Score  Max_score\n",
       "53  AI_ELITE_6  uid_96      3          7\n",
       "54  AI_ELITE_6  uid_95      4          7\n",
       "55  AI_ELITE_6  uid_94      6          7\n",
       "56  AI_ELITE_6  uid_93      6          7\n",
       "57  AI_ELITE_6  uid_92      4          7"
      ]
     },
     "execution_count": 14,
     "metadata": {},
     "output_type": "execute_result"
    }
   ],
   "source": [
    "batch_b = df[df['Batch'] == 'AI_ELITE_6']\n",
    "batch_b.head()"
   ]
  },
  {
   "cell_type": "code",
   "execution_count": 15,
   "id": "dc8d88bc",
   "metadata": {},
   "outputs": [
    {
     "data": {
      "text/html": [
       "<div>\n",
       "<style scoped>\n",
       "    .dataframe tbody tr th:only-of-type {\n",
       "        vertical-align: middle;\n",
       "    }\n",
       "\n",
       "    .dataframe tbody tr th {\n",
       "        vertical-align: top;\n",
       "    }\n",
       "\n",
       "    .dataframe thead th {\n",
       "        text-align: right;\n",
       "    }\n",
       "</style>\n",
       "<table border=\"1\" class=\"dataframe\">\n",
       "  <thead>\n",
       "    <tr style=\"text-align: right;\">\n",
       "      <th></th>\n",
       "      <th>Batch</th>\n",
       "      <th>User_ID</th>\n",
       "      <th>Score</th>\n",
       "      <th>Max_score</th>\n",
       "    </tr>\n",
       "  </thead>\n",
       "  <tbody>\n",
       "    <tr>\n",
       "      <th>101</th>\n",
       "      <td>AI_ELITE_4</td>\n",
       "      <td>uid_48</td>\n",
       "      <td>7</td>\n",
       "      <td>7</td>\n",
       "    </tr>\n",
       "    <tr>\n",
       "      <th>102</th>\n",
       "      <td>AI_ELITE_4</td>\n",
       "      <td>uid_47</td>\n",
       "      <td>5</td>\n",
       "      <td>7</td>\n",
       "    </tr>\n",
       "    <tr>\n",
       "      <th>103</th>\n",
       "      <td>AI_ELITE_4</td>\n",
       "      <td>uid_46</td>\n",
       "      <td>4</td>\n",
       "      <td>7</td>\n",
       "    </tr>\n",
       "    <tr>\n",
       "      <th>104</th>\n",
       "      <td>AI_ELITE_4</td>\n",
       "      <td>uid_45</td>\n",
       "      <td>4</td>\n",
       "      <td>7</td>\n",
       "    </tr>\n",
       "    <tr>\n",
       "      <th>105</th>\n",
       "      <td>AI_ELITE_4</td>\n",
       "      <td>uid_44</td>\n",
       "      <td>7</td>\n",
       "      <td>7</td>\n",
       "    </tr>\n",
       "  </tbody>\n",
       "</table>\n",
       "</div>"
      ],
      "text/plain": [
       "          Batch User_ID  Score  Max_score\n",
       "101  AI_ELITE_4  uid_48      7          7\n",
       "102  AI_ELITE_4  uid_47      5          7\n",
       "103  AI_ELITE_4  uid_46      4          7\n",
       "104  AI_ELITE_4  uid_45      4          7\n",
       "105  AI_ELITE_4  uid_44      7          7"
      ]
     },
     "execution_count": 15,
     "metadata": {},
     "output_type": "execute_result"
    }
   ],
   "source": [
    "batch_c = df[df['Batch'] == 'AI_ELITE_4']\n",
    "batch_c.head()"
   ]
  },
  {
   "cell_type": "markdown",
   "id": "7993f327",
   "metadata": {},
   "source": [
    "## Topper of Batch A"
   ]
  },
  {
   "cell_type": "code",
   "execution_count": 16,
   "id": "70c7b256",
   "metadata": {},
   "outputs": [
    {
     "data": {
      "text/html": [
       "<div>\n",
       "<style scoped>\n",
       "    .dataframe tbody tr th:only-of-type {\n",
       "        vertical-align: middle;\n",
       "    }\n",
       "\n",
       "    .dataframe tbody tr th {\n",
       "        vertical-align: top;\n",
       "    }\n",
       "\n",
       "    .dataframe thead th {\n",
       "        text-align: right;\n",
       "    }\n",
       "</style>\n",
       "<table border=\"1\" class=\"dataframe\">\n",
       "  <thead>\n",
       "    <tr style=\"text-align: right;\">\n",
       "      <th></th>\n",
       "      <th>Batch</th>\n",
       "      <th>User_ID</th>\n",
       "      <th>Score</th>\n",
       "      <th>Max_score</th>\n",
       "    </tr>\n",
       "  </thead>\n",
       "  <tbody>\n",
       "    <tr>\n",
       "      <th>2</th>\n",
       "      <td>AI_ELITE_7</td>\n",
       "      <td>uid_147</td>\n",
       "      <td>7</td>\n",
       "      <td>7</td>\n",
       "    </tr>\n",
       "    <tr>\n",
       "      <th>3</th>\n",
       "      <td>AI_ELITE_7</td>\n",
       "      <td>uid_146</td>\n",
       "      <td>7</td>\n",
       "      <td>7</td>\n",
       "    </tr>\n",
       "    <tr>\n",
       "      <th>5</th>\n",
       "      <td>AI_ELITE_7</td>\n",
       "      <td>uid_144</td>\n",
       "      <td>7</td>\n",
       "      <td>7</td>\n",
       "    </tr>\n",
       "    <tr>\n",
       "      <th>7</th>\n",
       "      <td>AI_ELITE_7</td>\n",
       "      <td>uid_142</td>\n",
       "      <td>7</td>\n",
       "      <td>7</td>\n",
       "    </tr>\n",
       "    <tr>\n",
       "      <th>15</th>\n",
       "      <td>AI_ELITE_7</td>\n",
       "      <td>uid_134</td>\n",
       "      <td>7</td>\n",
       "      <td>7</td>\n",
       "    </tr>\n",
       "    <tr>\n",
       "      <th>16</th>\n",
       "      <td>AI_ELITE_7</td>\n",
       "      <td>uid_133</td>\n",
       "      <td>7</td>\n",
       "      <td>7</td>\n",
       "    </tr>\n",
       "    <tr>\n",
       "      <th>17</th>\n",
       "      <td>AI_ELITE_7</td>\n",
       "      <td>uid_132</td>\n",
       "      <td>7</td>\n",
       "      <td>7</td>\n",
       "    </tr>\n",
       "    <tr>\n",
       "      <th>19</th>\n",
       "      <td>AI_ELITE_7</td>\n",
       "      <td>uid_130</td>\n",
       "      <td>7</td>\n",
       "      <td>7</td>\n",
       "    </tr>\n",
       "    <tr>\n",
       "      <th>24</th>\n",
       "      <td>AI_ELITE_7</td>\n",
       "      <td>uid_125</td>\n",
       "      <td>7</td>\n",
       "      <td>7</td>\n",
       "    </tr>\n",
       "    <tr>\n",
       "      <th>35</th>\n",
       "      <td>AI_ELITE_7</td>\n",
       "      <td>uid_114</td>\n",
       "      <td>7</td>\n",
       "      <td>7</td>\n",
       "    </tr>\n",
       "  </tbody>\n",
       "</table>\n",
       "</div>"
      ],
      "text/plain": [
       "         Batch  User_ID  Score  Max_score\n",
       "2   AI_ELITE_7  uid_147      7          7\n",
       "3   AI_ELITE_7  uid_146      7          7\n",
       "5   AI_ELITE_7  uid_144      7          7\n",
       "7   AI_ELITE_7  uid_142      7          7\n",
       "15  AI_ELITE_7  uid_134      7          7\n",
       "16  AI_ELITE_7  uid_133      7          7\n",
       "17  AI_ELITE_7  uid_132      7          7\n",
       "19  AI_ELITE_7  uid_130      7          7\n",
       "24  AI_ELITE_7  uid_125      7          7\n",
       "35  AI_ELITE_7  uid_114      7          7"
      ]
     },
     "execution_count": 16,
     "metadata": {},
     "output_type": "execute_result"
    }
   ],
   "source": [
    "batch_a.loc[batch_a.Score == 7]"
   ]
  },
  {
   "cell_type": "markdown",
   "id": "f09ea553",
   "metadata": {},
   "source": [
    "## Toppers of Batch B"
   ]
  },
  {
   "cell_type": "code",
   "execution_count": 17,
   "id": "f599ee17",
   "metadata": {},
   "outputs": [
    {
     "data": {
      "text/html": [
       "<div>\n",
       "<style scoped>\n",
       "    .dataframe tbody tr th:only-of-type {\n",
       "        vertical-align: middle;\n",
       "    }\n",
       "\n",
       "    .dataframe tbody tr th {\n",
       "        vertical-align: top;\n",
       "    }\n",
       "\n",
       "    .dataframe thead th {\n",
       "        text-align: right;\n",
       "    }\n",
       "</style>\n",
       "<table border=\"1\" class=\"dataframe\">\n",
       "  <thead>\n",
       "    <tr style=\"text-align: right;\">\n",
       "      <th></th>\n",
       "      <th>Batch</th>\n",
       "      <th>User_ID</th>\n",
       "      <th>Score</th>\n",
       "      <th>Max_score</th>\n",
       "    </tr>\n",
       "  </thead>\n",
       "  <tbody>\n",
       "    <tr>\n",
       "      <th>63</th>\n",
       "      <td>AI_ELITE_6</td>\n",
       "      <td>uid_86</td>\n",
       "      <td>7</td>\n",
       "      <td>7</td>\n",
       "    </tr>\n",
       "    <tr>\n",
       "      <th>67</th>\n",
       "      <td>AI_ELITE_6</td>\n",
       "      <td>uid_82</td>\n",
       "      <td>7</td>\n",
       "      <td>7</td>\n",
       "    </tr>\n",
       "    <tr>\n",
       "      <th>74</th>\n",
       "      <td>AI_ELITE_6</td>\n",
       "      <td>uid_75</td>\n",
       "      <td>7</td>\n",
       "      <td>7</td>\n",
       "    </tr>\n",
       "    <tr>\n",
       "      <th>78</th>\n",
       "      <td>AI_ELITE_6</td>\n",
       "      <td>uid_71</td>\n",
       "      <td>7</td>\n",
       "      <td>7</td>\n",
       "    </tr>\n",
       "    <tr>\n",
       "      <th>98</th>\n",
       "      <td>AI_ELITE_6</td>\n",
       "      <td>uid_51</td>\n",
       "      <td>7</td>\n",
       "      <td>7</td>\n",
       "    </tr>\n",
       "  </tbody>\n",
       "</table>\n",
       "</div>"
      ],
      "text/plain": [
       "         Batch User_ID  Score  Max_score\n",
       "63  AI_ELITE_6  uid_86      7          7\n",
       "67  AI_ELITE_6  uid_82      7          7\n",
       "74  AI_ELITE_6  uid_75      7          7\n",
       "78  AI_ELITE_6  uid_71      7          7\n",
       "98  AI_ELITE_6  uid_51      7          7"
      ]
     },
     "execution_count": 17,
     "metadata": {},
     "output_type": "execute_result"
    }
   ],
   "source": [
    "batch_b.loc[batch_b.Score == 7]"
   ]
  },
  {
   "cell_type": "markdown",
   "id": "926837c9",
   "metadata": {},
   "source": [
    "## Toppers of Batch C"
   ]
  },
  {
   "cell_type": "code",
   "execution_count": 18,
   "id": "71630148",
   "metadata": {},
   "outputs": [
    {
     "data": {
      "text/html": [
       "<div>\n",
       "<style scoped>\n",
       "    .dataframe tbody tr th:only-of-type {\n",
       "        vertical-align: middle;\n",
       "    }\n",
       "\n",
       "    .dataframe tbody tr th {\n",
       "        vertical-align: top;\n",
       "    }\n",
       "\n",
       "    .dataframe thead th {\n",
       "        text-align: right;\n",
       "    }\n",
       "</style>\n",
       "<table border=\"1\" class=\"dataframe\">\n",
       "  <thead>\n",
       "    <tr style=\"text-align: right;\">\n",
       "      <th></th>\n",
       "      <th>Batch</th>\n",
       "      <th>User_ID</th>\n",
       "      <th>Score</th>\n",
       "      <th>Max_score</th>\n",
       "    </tr>\n",
       "  </thead>\n",
       "  <tbody>\n",
       "    <tr>\n",
       "      <th>101</th>\n",
       "      <td>AI_ELITE_4</td>\n",
       "      <td>uid_48</td>\n",
       "      <td>7</td>\n",
       "      <td>7</td>\n",
       "    </tr>\n",
       "    <tr>\n",
       "      <th>105</th>\n",
       "      <td>AI_ELITE_4</td>\n",
       "      <td>uid_44</td>\n",
       "      <td>7</td>\n",
       "      <td>7</td>\n",
       "    </tr>\n",
       "    <tr>\n",
       "      <th>139</th>\n",
       "      <td>AI_ELITE_4</td>\n",
       "      <td>uid_10</td>\n",
       "      <td>7</td>\n",
       "      <td>7</td>\n",
       "    </tr>\n",
       "  </tbody>\n",
       "</table>\n",
       "</div>"
      ],
      "text/plain": [
       "          Batch User_ID  Score  Max_score\n",
       "101  AI_ELITE_4  uid_48      7          7\n",
       "105  AI_ELITE_4  uid_44      7          7\n",
       "139  AI_ELITE_4  uid_10      7          7"
      ]
     },
     "execution_count": 18,
     "metadata": {},
     "output_type": "execute_result"
    }
   ],
   "source": [
    "batch_c.loc[batch_c.Score == 7]"
   ]
  },
  {
   "cell_type": "markdown",
   "id": "7e1779dd",
   "metadata": {},
   "source": [
    "## Average marks of all batches"
   ]
  },
  {
   "cell_type": "code",
   "execution_count": 19,
   "id": "51f9085f",
   "metadata": {},
   "outputs": [
    {
     "name": "stdout",
     "output_type": "stream",
     "text": [
      "Batch A (AI_ELITE_7) =  5.056603773584905\n",
      "Batch B (AI_ELITE_6) =  4.229166666666667\n",
      "Batch C (AI_ELITE_4) =  3.7916666666666665\n"
     ]
    }
   ],
   "source": [
    "print(\"Batch A (AI_ELITE_7) = \", batch_a['Score'].mean())\n",
    "print(\"Batch B (AI_ELITE_6) = \", batch_b['Score'].mean())\n",
    "print(\"Batch C (AI_ELITE_4) = \", batch_c['Score'].mean())"
   ]
  },
  {
   "cell_type": "markdown",
   "id": "3eaa5ca6",
   "metadata": {},
   "source": [
    "## Batch A"
   ]
  },
  {
   "cell_type": "code",
   "execution_count": 20,
   "id": "6b771b2c",
   "metadata": {},
   "outputs": [
    {
     "data": {
      "text/plain": [
       "<AxesSubplot:ylabel='Frequency'>"
      ]
     },
     "execution_count": 20,
     "metadata": {},
     "output_type": "execute_result"
    },
    {
     "data": {
      "image/png": "[encoded data removed]",
      "text/plain": [
       "<Figure size 432x288 with 1 Axes>"
      ]
     },
     "metadata": {
      "needs_background": "light"
     },
     "output_type": "display_data"
    }
   ],
   "source": [
    "batch_a['Score'].plot(kind='hist')"
   ]
  },
  {
   "cell_type": "code",
   "execution_count": 21,
   "id": "21f85b6d",
   "metadata": {},
   "outputs": [
    {
     "data": {
      "text/plain": [
       "<AxesSubplot:>"
      ]
     },
     "execution_count": 21,
     "metadata": {},
     "output_type": "execute_result"
    },
    {
     "data": {
      "image/png": "[encoded data removed]",
      "text/plain": [
       "<Figure size 432x288 with 1 Axes>"
      ]
     },
     "metadata": {
      "needs_background": "light"
     },
     "output_type": "display_data"
    }
   ],
   "source": [
    "batch_a['Score'].plot(kind='box')"
   ]
  },
  {
   "cell_type": "markdown",
   "id": "3fa59a21",
   "metadata": {},
   "source": [
    "## Batch B"
   ]
  },
  {
   "cell_type": "code",
   "execution_count": 22,
   "id": "3dc8ead3",
   "metadata": {},
   "outputs": [
    {
     "data": {
      "text/plain": [
       "<AxesSubplot:ylabel='Frequency'>"
      ]
     },
     "execution_count": 22,
     "metadata": {},
     "output_type": "execute_result"
    },
    {
     "data": {
      "image/png": "[encoded data removed]",
      "text/plain": [
       "<Figure size 432x288 with 1 Axes>"
      ]
     },
     "metadata": {
      "needs_background": "light"
     },
     "output_type": "display_data"
    }
   ],
   "source": [
    "batch_b['Score'].plot(kind='hist')"
   ]
  },
  {
   "cell_type": "code",
   "execution_count": 23,
   "id": "e7ecc9e0",
   "metadata": {},
   "outputs": [
    {
     "data": {
      "text/plain": [
       "<AxesSubplot:>"
      ]
     },
     "execution_count": 23,
     "metadata": {},
     "output_type": "execute_result"
    },
    {
     "data": {
      "image/png": "[encoded data removed]",
      "text/plain": [
       "<Figure size 432x288 with 1 Axes>"
      ]
     },
     "metadata": {
      "needs_background": "light"
     },
     "output_type": "display_data"
    }
   ],
   "source": [
    "batch_b['Score'].plot(kind='box')"
   ]
  },
  {
   "cell_type": "markdown",
   "id": "5c49e341",
   "metadata": {},
   "source": [
    "## Batch C"
   ]
  },
  {
   "cell_type": "code",
   "execution_count": 24,
   "id": "fb3bd923",
   "metadata": {},
   "outputs": [
    {
     "data": {
      "text/plain": [
       "<AxesSubplot:ylabel='Frequency'>"
      ]
     },
     "execution_count": 24,
     "metadata": {},
     "output_type": "execute_result"
    },
    {
     "data": {
      "image/png": "[encoded data removed]",
      "text/plain": [
       "<Figure size 432x288 with 1 Axes>"
      ]
     },
     "metadata": {
      "needs_background": "light"
     },
     "output_type": "display_data"
    }
   ],
   "source": [
    "batch_c['Score'].plot(kind='hist')"
   ]
  },
  {
   "cell_type": "code",
   "execution_count": 25,
   "id": "eb9b3d39",
   "metadata": {},
   "outputs": [
    {
     "data": {
      "text/plain": [
       "<AxesSubplot:>"
      ]
     },
     "execution_count": 25,
     "metadata": {},
     "output_type": "execute_result"
    },
    {
     "data": {
      "image/png": "[encoded data removed]",
      "text/plain": [
       "<Figure size 432x288 with 1 Axes>"
      ]
     },
     "metadata": {
      "needs_background": "light"
     },
     "output_type": "display_data"
    }
   ],
   "source": [
    "batch_c['Score'].plot(kind='box')"
   ]
  },
  {
   "cell_type": "markdown",
   "id": "9cf77f96",
   "metadata": {},
   "source": [
    "## Students who scored 0 marks"
   ]
  },
  {
   "cell_type": "code",
   "execution_count": 26,
   "id": "c60e00ce",
   "metadata": {},
   "outputs": [
    {
     "data": {
      "text/html": [
       "<div>\n",
       "<style scoped>\n",
       "    .dataframe tbody tr th:only-of-type {\n",
       "        vertical-align: middle;\n",
       "    }\n",
       "\n",
       "    .dataframe tbody tr th {\n",
       "        vertical-align: top;\n",
       "    }\n",
       "\n",
       "    .dataframe thead th {\n",
       "        text-align: right;\n",
       "    }\n",
       "</style>\n",
       "<table border=\"1\" class=\"dataframe\">\n",
       "  <thead>\n",
       "    <tr style=\"text-align: right;\">\n",
       "      <th></th>\n",
       "      <th>Batch</th>\n",
       "      <th>User_ID</th>\n",
       "      <th>Score</th>\n",
       "      <th>Max_score</th>\n",
       "    </tr>\n",
       "  </thead>\n",
       "  <tbody>\n",
       "  </tbody>\n",
       "</table>\n",
       "</div>"
      ],
      "text/plain": [
       "Empty DataFrame\n",
       "Columns: [Batch, User_ID, Score, Max_score]\n",
       "Index: []"
      ]
     },
     "execution_count": 26,
     "metadata": {},
     "output_type": "execute_result"
    }
   ],
   "source": [
    "batch_a.loc[batch_a.Score == 0] #batch A"
   ]
  },
  {
   "cell_type": "code",
   "execution_count": 27,
   "id": "8d55d57d",
   "metadata": {},
   "outputs": [
    {
     "data": {
      "text/html": [
       "<div>\n",
       "<style scoped>\n",
       "    .dataframe tbody tr th:only-of-type {\n",
       "        vertical-align: middle;\n",
       "    }\n",
       "\n",
       "    .dataframe tbody tr th {\n",
       "        vertical-align: top;\n",
       "    }\n",
       "\n",
       "    .dataframe thead th {\n",
       "        text-align: right;\n",
       "    }\n",
       "</style>\n",
       "<table border=\"1\" class=\"dataframe\">\n",
       "  <thead>\n",
       "    <tr style=\"text-align: right;\">\n",
       "      <th></th>\n",
       "      <th>Batch</th>\n",
       "      <th>User_ID</th>\n",
       "      <th>Score</th>\n",
       "      <th>Max_score</th>\n",
       "    </tr>\n",
       "  </thead>\n",
       "  <tbody>\n",
       "    <tr>\n",
       "      <th>68</th>\n",
       "      <td>AI_ELITE_6</td>\n",
       "      <td>uid_81</td>\n",
       "      <td>0</td>\n",
       "      <td>7</td>\n",
       "    </tr>\n",
       "  </tbody>\n",
       "</table>\n",
       "</div>"
      ],
      "text/plain": [
       "         Batch User_ID  Score  Max_score\n",
       "68  AI_ELITE_6  uid_81      0          7"
      ]
     },
     "execution_count": 27,
     "metadata": {},
     "output_type": "execute_result"
    }
   ],
   "source": [
    "batch_b.loc[batch_b.Score == 0] #Batch B"
   ]
  },
  {
   "cell_type": "code",
   "execution_count": 28,
   "id": "fceaf87e",
   "metadata": {},
   "outputs": [
    {
     "data": {
      "text/html": [
       "<div>\n",
       "<style scoped>\n",
       "    .dataframe tbody tr th:only-of-type {\n",
       "        vertical-align: middle;\n",
       "    }\n",
       "\n",
       "    .dataframe tbody tr th {\n",
       "        vertical-align: top;\n",
       "    }\n",
       "\n",
       "    .dataframe thead th {\n",
       "        text-align: right;\n",
       "    }\n",
       "</style>\n",
       "<table border=\"1\" class=\"dataframe\">\n",
       "  <thead>\n",
       "    <tr style=\"text-align: right;\">\n",
       "      <th></th>\n",
       "      <th>Batch</th>\n",
       "      <th>User_ID</th>\n",
       "      <th>Score</th>\n",
       "      <th>Max_score</th>\n",
       "    </tr>\n",
       "  </thead>\n",
       "  <tbody>\n",
       "    <tr>\n",
       "      <th>135</th>\n",
       "      <td>AI_ELITE_4</td>\n",
       "      <td>uid_14</td>\n",
       "      <td>0</td>\n",
       "      <td>7</td>\n",
       "    </tr>\n",
       "  </tbody>\n",
       "</table>\n",
       "</div>"
      ],
      "text/plain": [
       "          Batch User_ID  Score  Max_score\n",
       "135  AI_ELITE_4  uid_14      0          7"
      ]
     },
     "execution_count": 28,
     "metadata": {},
     "output_type": "execute_result"
    }
   ],
   "source": [
    "batch_c.loc[batch_c.Score == 0] #Batch C"
   ]
  },
  {
   "cell_type": "markdown",
   "id": "73a708d9",
   "metadata": {},
   "source": [
    "## Analysis"
   ]
  },
  {
   "cell_type": "markdown",
   "id": "7e989296",
   "metadata": {},
   "source": [
    "### Batch A = AI_ELITE_7\n",
    "#### Average Score of 5.05\n",
    "#### 0 students who have scored 0 marks in this Batch\n",
    "#### 10 Students who scored Full 7/7 marks in this Batch\n",
    "\n",
    "### Batch B = AI_ELITE_6\n",
    "#### Average Score of 4.22\n",
    "#### Only 1 student have scored 0 marks in this Batch\n",
    "#### 5 Students scored Full 7/7 marks in this Batch\n",
    "\n",
    "### Batch C = AI_ELITE_4\n",
    "#### Average Score of 3.79\n",
    "#### Only 1 student have scored 0 marks in this Batch\n",
    "#### 3 Students scored Full 7/7 marks in this Batch"
   ]
  },
  {
   "cell_type": "code",
   "execution_count": null,
   "id": "6abc37dc",
   "metadata": {},
   "outputs": [],
   "source": []
  }
 ],
 "metadata": {
  "kernelspec": {
   "display_name": "Python 3",
   "language": "python",
   "name": "python3"
  },
  "language_info": {
   "codemirror_mode": {
    "name": "ipython",
    "version": 3
   },
   "file_extension": ".py",
   "mimetype": "text/x-python",
   "name": "python",
   "nbconvert_exporter": "python",
   "pygments_lexer": "ipython3",
   "version": "3.9.2"
  }
 },
 "nbformat": 4,
 "nbformat_minor": 5
}
